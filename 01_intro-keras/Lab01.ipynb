{
  "cells": [
    {
      "cell_type": "markdown",
      "metadata": {
        "id": "UtTlA1fCMpup"
      },
      "source": [
        "# Sieci neuronowe z wykorzystaniem Kerasa (1)\n",
        "## Głębokie uczenie\n",
        "\n",
        "# 1. Podstawy\n"
      ]
    },
    {
      "cell_type": "markdown",
      "metadata": {
        "id": "I9SBICeSNUfy"
      },
      "source": [
        "**Zanim przejdziemy do bardziej zaawansowanego przykładu, zapoznamy się z Tensorflow i Keras. Przyjrzymy się pierwszemu konkretnemu przykładowi sieci neuronowej, która wykorzystuje bibliotekę Python Keras do nauki klasyfikacji odręcznie pisanych cyfr.**\n",
        "\n",
        "Problemem, który staramy się rozwiązać, jest klasyfikacja obrazów pogrubiony tekstodręcznych cyfr w skali szarości (28 pikseli na 28 pikseli) do 10 kategorii (od 0 do 9). Zbiór danych, którego użyjemy to MNIST. Jest to zestaw 60 000 obrazów treningowych plus 10 000 obrazów testowych, zebranych przez National Institute of Standards and Technology (NIST w MNIST) w latach 80-tych.\n",
        "\n",
        "Możesz myśleć o \"rozwiązywaniu\" MNIST jako o \"Hello World\" głębokiego uczenia się - to jest to, co robisz, aby sprawdzić, czy twoje algorytmy działają zgodnie z oczekiwaniami.\n",
        "\n",
        "Po pierwsze, zaimportujemy Keras (w oparciu o wersję Python/Tensorflow):"
      ]
    },
    {
      "cell_type": "code",
      "execution_count": null,
      "metadata": {
        "id": "c0Q_VZGlNT1j"
      },
      "outputs": [],
      "source": [
        "from tensorflow import keras\n",
        "...\n",
        "import keras\n",
        "import pandas as pd\n",
        "import numpy as np\n",
        "import matplotlib.pyplot as plt"
      ]
    },
    {
      "cell_type": "markdown",
      "metadata": {
        "id": "G6_jY1oOO5YY"
      },
      "source": [
        "Jeśli korzystasz z najnowszej wersji Tensorflow (keras jest już dołączony), dodaj dodatkową funkcjonalność za pomocą:\n",
        "\n",
        "```\n",
        "from tensorflow import keras\n",
        "from tensorflow.keras import XXX\n",
        "```\n",
        "\n",
        "Zbiór danych MNIST jest wstępnie załadowany do Keras w postaci zestawu czterech tablic Numpy:"
      ]
    },
    {
      "cell_type": "code",
      "execution_count": null,
      "metadata": {
        "id": "sSYMk1IQPUwY"
      },
      "outputs": [],
      "source": [
        "from keras.datasets import mnist\n",
        "\n",
        "(train_images, train_labels), (test_images, test_labels) = mnist.load_data()"
      ]
    },
    {
      "cell_type": "markdown",
      "metadata": {
        "id": "FS2FZz-VPcUv"
      },
      "source": [
        "**Zadanie 1**\n",
        "\n",
        "*   Sprawdź liczbę przykładów treningowych i testowych.\n",
        "*   Ile mamy etykiet?\n",
        "*   Sprawdź rozmiar obrazu i wykreśl kilka przykładów\n"
      ]
    },
    {
      "cell_type": "code",
      "execution_count": null,
      "metadata": {
        "colab": {
          "base_uri": "https://localhost:8080/"
        },
        "id": "4fFu2Pr2dYTd",
        "outputId": "9b96b873-039d-473e-bfbb-890cac295b55"
      },
      "outputs": [
        {
          "name": "stdout",
          "output_type": "stream",
          "text": [
            "Kształt danych treningowych: (60000, 28, 28)\n",
            "Kształt danych testowych: (10000, 28, 28)\n"
          ]
        }
      ],
      "source": [
        "print(\"Kształt danych treningowych:\", train_images.shape)\n",
        "print(\"Kształt danych testowych:\", test_images.shape)"
      ]
    },
    {
      "cell_type": "code",
      "execution_count": null,
      "metadata": {
        "colab": {
          "base_uri": "https://localhost:8080/"
        },
        "id": "6Jy2raIHd20C",
        "outputId": "169a95d4-ddd0-448d-d756-13133c2559b9"
      },
      "outputs": [
        {
          "name": "stdout",
          "output_type": "stream",
          "text": [
            "Kształt etykiet treningowych: (60000,)\n",
            "Pierwsze 10 etykiet [5 0 4 1 9 2 1 3 1 4]\n",
            "Liczba unikalnych etykiey 10\n"
          ]
        }
      ],
      "source": [
        "print(\"Kształt etykiet treningowych:\", train_labels.shape)\n",
        "print(\"Pierwsze 10 etykiet\", train_labels[:10])\n",
        "print(\"Liczba unikalnych etykiet\", len(np.unique(train_labels)))"
      ]
    },
    {
      "cell_type": "code",
      "execution_count": null,
      "metadata": {
        "colab": {
          "base_uri": "https://localhost:8080/",
          "height": 1000
        },
        "id": "qWcZ1LRYedLI",
        "outputId": "024a7210-c4f4-4043-a86e-f354b35a7ae9"
      },
      "outputs": [
        {
          "data": {
            "image/png": "[encoded data removed]",
            "text/plain": [
              "<Figure size 1000x1000 with 9 Axes>"
            ]
          },
          "metadata": {},
          "output_type": "display_data"
        }
      ],
      "source": [
        "plt.figure(figsize=(10, 10))\n",
        "for i in range(9):\n",
        "    plt.subplot(3, 3, i+1)\n",
        "    plt.imshow(train_images[i], cmap='gray')\n",
        "    plt.title(f\"Cyfra: {train_labels[i]}\")\n",
        "    plt.axis('off')\n",
        "plt.tight_layout()\n",
        "plt.show()"
      ]
    },
    {
      "cell_type": "markdown",
      "metadata": {
        "id": "tyvLX0LTPvFr"
      },
      "source": [
        "**Przepływ pracy DNN**\n",
        "1. Tworzenie architektury sieci neuronowej.\n",
        "2. Trenuj naszą sieć neuronową za pomocą danych treningowych, train_images i train_labels. Następnie sieć nauczy się kojarzyć obrazy i etykiety.\n",
        "3. Sieć wygeneruje prognozy dla test_images i sprawdzimy, czy te prognozy są zgodne z etykietami z test_labels.\n",
        "\n",
        "**Architektura DNN**\n",
        "1. Nasza sieć będzie składać się z sekwencji dwóch warstw `Dense`, które są gęsto połączonymi (zwanymi również \"w pełni połączonymi\") warstwami neuronowymi.\n",
        "2. Druga (i ostatnia) warstwa to 10-kierunkowa warstwa \"softmax\", co oznacza, że zwróci ona tablicę 10 wyników prawdopodobieństwa (sumujących się do 1). Każdy wynik będzie prawdopodobieństwem, że bieżący obraz cyfry należy do jednej z naszych 10 klas cyfr.\n",
        "\n",
        "Trening DNN\n",
        "Aby nasza sieć była gotowa do treningu, musimy wybrać jeszcze trzy elementy w ramach etapu \"kompilacji\":\n",
        "1. **Funkcja straty**: Jest to sposób, w jaki sieć będzie w stanie zmierzyć, jak dobrze radzi sobie z danymi treningowymi, a tym samym, w jaki sposób będzie w stanie iść we właściwym kierunku.\n",
        "2. **Optymalizator**: jest to mechanizm, za pomocą którego sieć będzie się aktualizować w oparciu o dane, które widzi i funkcję strat.\n",
        "3. **Metryki**: do monitorowania podczas szkolenia i testowania. Tutaj będziemy dbać tylko o `dokładność` (ułamek obrazów, które zostały poprawnie sklasyfikowane).\n",
        "\n",
        "Dzisiaj, podczas naszych 3 przykładów, będziemy używać tylko klasy Sequential. Podczas naszych następnych spotkań przedstawię funkcjonalne API, w którym będziemy mogli manipulować tensorami danych przetwarzanymi przez model i stosować warstwy do tych tensorów tak, jakby były funkcjami.\n"
      ]
    },
    {
      "cell_type": "markdown",
      "metadata": {
        "id": "jPWO4vhYRcUQ"
      },
      "source": [
        "**Architektura sieci**"
      ]
    },
    {
      "cell_type": "code",
      "execution_count": null,
      "metadata": {
        "colab": {
          "base_uri": "https://localhost:8080/"
        },
        "id": "2eprdtmQRgMo",
        "outputId": "21629a05-1ba0-4daa-a1ef-444da082f42c"
      },
      "outputs": [
        {
          "name": "stderr",
          "output_type": "stream",
          "text": [
            "/usr/local/lib/python3.11/dist-packages/keras/src/layers/core/dense.py:87: UserWarning: Do not pass an `input_shape`/`input_dim` argument to a layer. When using Sequential models, prefer using an `Input(shape)` object as the first layer in the model instead.\n",
            "  super().__init__(activity_regularizer=activity_regularizer, **kwargs)\n"
          ]
        }
      ],
      "source": [
        "from keras import models\n",
        "from keras import layers\n",
        "\n",
        "network = models.Sequential()\n",
        "network.add(layers.Dense(512, activation='relu', input_shape=(28 * 28,)))\n",
        "network.add(layers.Dense(10, activation='softmax'))"
      ]
    },
    {
      "cell_type": "markdown",
      "metadata": {
        "id": "xICk2gK6RqBx"
      },
      "source": [
        "**Trening sieci**\n",
        "\n",
        "Po zdefiniowaniu architektury modelu proces uczenia można skonfigurować na etapie kompilacji. Określamy: optymalizator, funkcję straty i metryki."
      ]
    },
    {
      "cell_type": "code",
      "execution_count": null,
      "metadata": {
        "id": "-dIvwKkiRvoa"
      },
      "outputs": [],
      "source": [
        "network.compile(optimizer='rmsprop',\n",
        "                loss='categorical_crossentropy',\n",
        "                metrics=['accuracy'])"
      ]
    },
    {
      "cell_type": "markdown",
      "metadata": {
        "id": "2pp7U8xlR1vn"
      },
      "source": [
        "**Przygotowanie danych**\n",
        "\n",
        "Przed treningiem wstępnie przetworzymy nasze dane, przekształcając je w kształt oczekiwany przez sieć i skalując tak, aby wszystkie wartości mieściły się w przedziale [0, 1].\n",
        "\n",
        "Nasze obrazy treningowe są przechowywane w tablicy o kształcie (60000, 28, 28) typu uint8 z wartościami w przedziale [0, 255].\n",
        "\n",
        "Przekształć je w tablicę float32 typu shape (60000, 28 * 28) z wartościami od 0 do 1.\n",
        "Niezbędne funkcje: `reshape` i `astype`.\n",
        "\n",
        "**Wykonaj to zarówno dla przykładów treningowych, jak i testowych.**"
      ]
    },
    {
      "cell_type": "code",
      "execution_count": null,
      "metadata": {
        "colab": {
          "base_uri": "https://localhost:8080/"
        },
        "id": "vPCGno2QSM9X",
        "outputId": "aa5b0ef1-f5f2-460e-8270-38a6cc304dc4"
      },
      "outputs": [
        {
          "name": "stdout",
          "output_type": "stream",
          "text": [
            "Nowy kształt danych treningowych: (60000, 784)\n",
            "Nowy kształt danych testowych: (10000, 784)\n",
            "Zakres wartości pikseli: 0.0 - 1.0\n"
          ]
        }
      ],
      "source": [
        "# TODO\n",
        "# from tensorflow import reshape\n",
        "import tensorflow as tf\n",
        "\n",
        "train_images = train_images.reshape((60000, 28 * 28)).astype('float32') / 255\n",
        "test_images = test_images.reshape((10000, 28 * 28)).astype('float32') / 255\n",
        "\n",
        "print(\"Nowy kształt danych treningowych:\", train_images.shape)\n",
        "print(\"Nowy kształt danych testowych:\", test_images.shape)\n",
        "print(\"Zakres wartości pikseli:\", np.min(train_images), \"-\", np.max(train_images))\n"
      ]
    },
    {
      "cell_type": "markdown",
      "metadata": {
        "id": "75qoxtmBSTdO"
      },
      "source": [
        "Ponieważ używamy funkcji straty `categorical_crossentropy`, musimy przekonwertować format danych:"
      ]
    },
    {
      "cell_type": "code",
      "execution_count": null,
      "metadata": {
        "colab": {
          "base_uri": "https://localhost:8080/"
        },
        "id": "1izRkD_LSaJY",
        "outputId": "425fc099-4845-4271-ee4a-40f7b89e9fef"
      },
      "outputs": [
        {
          "name": "stdout",
          "output_type": "stream",
          "text": [
            "Nowy kształt etykiet treningowych: (60000, 10)\n",
            "Przykład zakodowanej etykiety: [0. 0. 0. 0. 0. 1. 0. 0. 0. 0.]\n"
          ]
        }
      ],
      "source": [
        "from keras.utils import to_categorical\n",
        "\n",
        "train_labels = to_categorical(train_labels)\n",
        "test_labels = to_categorical(test_labels)\n",
        "\n",
        "print(\"Nowy kształt etykiet treningowych:\", train_labels.shape)\n",
        "print(\"Przykład zakodowanej etykiety:\", train_labels[0])"
      ]
    },
    {
      "cell_type": "markdown",
      "metadata": {
        "id": "JCvN2vJASgWX"
      },
      "source": [
        "**Dopasowanie modelu**\n",
        "\n",
        "Aby wytrenować naszą sieć, wywołujemy metodę dopasowania sieci z parametrami epochs i batch_size. Ustawmy epochs na 5, a batch_size na 128."
      ]
    },
    {
      "cell_type": "code",
      "execution_count": null,
      "metadata": {
        "colab": {
          "base_uri": "https://localhost:8080/"
        },
        "id": "lNWD171NSrlG",
        "outputId": "0ff53e58-2c4c-4841-cce5-412f4356ff70"
      },
      "outputs": [
        {
          "name": "stdout",
          "output_type": "stream",
          "text": [
            "Epoch 1/5\n",
            "\u001b[1m469/469\u001b[0m \u001b[32m━━━━━━━━━━━━━━━━━━━━\u001b[0m\u001b[37m\u001b[0m \u001b[1m9s\u001b[0m 16ms/step - accuracy: 0.8752 - loss: 0.4354 - val_accuracy: 0.9591 - val_loss: 0.1363\n",
            "Epoch 2/5\n",
            "\u001b[1m469/469\u001b[0m \u001b[32m━━━━━━━━━━━━━━━━━━━━\u001b[0m\u001b[37m\u001b[0m \u001b[1m5s\u001b[0m 12ms/step - accuracy: 0.9647 - loss: 0.1184 - val_accuracy: 0.9694 - val_loss: 0.0983\n",
            "Epoch 3/5\n",
            "\u001b[1m469/469\u001b[0m \u001b[32m━━━━━━━━━━━━━━━━━━━━\u001b[0m\u001b[37m\u001b[0m \u001b[1m11s\u001b[0m 13ms/step - accuracy: 0.9774 - loss: 0.0731 - val_accuracy: 0.9725 - val_loss: 0.0873\n",
            "Epoch 4/5\n",
            "\u001b[1m469/469\u001b[0m \u001b[32m━━━━━━━━━━━━━━━━━━━━\u001b[0m\u001b[37m\u001b[0m \u001b[1m11s\u001b[0m 14ms/step - accuracy: 0.9845 - loss: 0.0524 - val_accuracy: 0.9775 - val_loss: 0.0728\n",
            "Epoch 5/5\n",
            "\u001b[1m469/469\u001b[0m \u001b[32m━━━━━━━━━━━━━━━━━━━━\u001b[0m\u001b[37m\u001b[0m \u001b[1m10s\u001b[0m 13ms/step - accuracy: 0.9895 - loss: 0.0365 - val_accuracy: 0.9808 - val_loss: 0.0641\n"
          ]
        }
      ],
      "source": [
        "#TODO: dopasowywanie modelu\n",
        "\n",
        "history = network.fit(\n",
        "    train_images,\n",
        "    train_labels,\n",
        "    epochs=5,\n",
        "    batch_size=128,\n",
        "    validation_data=(test_images, test_labels)\n",
        ")"
      ]
    },
    {
      "cell_type": "markdown",
      "metadata": {
        "id": "3p_Lx8NzSvWo"
      },
      "source": [
        "**Ocena sieci/Ewaluacja**\n",
        "\n",
        "Podczas treningu wyświetlane są dwie wielkości: \"strata\" sieci na danych szkoleniowych oraz dokładność sieci na danych szkoleniowych.\n",
        "Szybko osiągamy dokładność 0,989 (tj. 98,9%) na danych treningowych.\n",
        "\n",
        "Teraz sprawdźmy, czy nasz model działa dobrze również na zestawie testowym:"
      ]
    },
    {
      "cell_type": "code",
      "execution_count": null,
      "metadata": {
        "colab": {
          "base_uri": "https://localhost:8080/"
        },
        "id": "LRb3leqhS7l2",
        "outputId": "d58245f5-9aa1-447a-d177-34d6766c40ba"
      },
      "outputs": [
        {
          "name": "stdout",
          "output_type": "stream",
          "text": [
            "\u001b[1m313/313\u001b[0m \u001b[32m━━━━━━━━━━━━━━━━━━━━\u001b[0m\u001b[37m\u001b[0m \u001b[1m1s\u001b[0m 3ms/step - accuracy: 0.9782 - loss: 0.0764\n",
            "test_acc: 0.9807999730110168\n"
          ]
        }
      ],
      "source": [
        "test_loss, test_acc = network.evaluate(test_images, test_labels)\n",
        "\n",
        "print('test_acc:', test_acc)"
      ]
    },
    {
      "cell_type": "markdown",
      "metadata": {
        "id": "-3jkpKtJTBWW"
      },
      "source": [
        "Dokładność naszego zestawu testowego okazuje się wynosić 97,8% - to znacznie mniej niż dokładność zestawu treningowego.\n",
        "Ta różnica między dokładnością treningu a dokładnością testu jest przykładem \"**nadmiernego dopasowania**\", czyli faktu, że modele uczenia maszynowego mają tendencję do osiągania gorszych wyników na nowych danych niż na danych treningowych.\n"
      ]
    }
  ],
  "metadata": {
    "colab": {
      "provenance": []
    },
    "kernelspec": {
      "display_name": "Python 3",
      "name": "python3"
    },
    "language_info": {
      "codemirror_mode": {
        "name": "ipython",
        "version": 3
      },
      "file_extension": ".py",
      "mimetype": "text/x-python",
      "name": "python",
      "nbconvert_exporter": "python",
      "pygments_lexer": "ipython3",
      "version": "3.12.6"
    }
  },
  "nbformat": 4,
  "nbformat_minor": 0
}
